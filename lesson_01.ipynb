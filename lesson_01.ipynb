{
 "cells": [
  {
   "cell_type": "markdown",
   "id": "1c9c17a1",
   "metadata": {},
   "source": [
    " # Lesson 1 - Introduction to GitHub & Jupyter Notebook\n"
   ]
  },
  {
   "cell_type": "markdown",
   "id": "353392de",
   "metadata": {},
   "source": [
    "Welcome to the Python Development Course!    \n",
    "In this lesson we'll learn:\n",
    "\n",
    "- What is Jupyter Notebook and how to work with it  \n",
    "- How to write text with Markdown  \n",
    "- How to run Python code  \n",
    "- How to save and upload to GitHub  \n",
    "---"
   ]
  },
  {
   "cell_type": "markdown",
   "id": "68e55198",
   "metadata": {},
   "source": [
    "### Part 1: What is Jupyter Notebook?\n",
    "Jupyter Notebook is a tool that allows us to:  \n",
    "\n",
    "- Write code and run it immediately  \n",
    "- Combine explanations and text with code  \n",
    "- See results right below the code  \n",
    "- Share our work with others  \n",
    "\n",
    "Cell - Each separate section is called a \"cell\". There are two types:  \n",
    "\n",
    "- Code - code cell (when we want to run Python)  \n",
    "- Markdown - text cell (when we want to explain something)  \n",
    "\n",
    "How to run a cell? Press Shift + Enter  \n",
    "\n",
    "\n",
    "---"
   ]
  },
  {
   "cell_type": "markdown",
   "id": "5b446884",
   "metadata": {},
   "source": [
    "### Part 2: Markdown - Writing Formatted Text\n",
    "Markdown is a simple language for text formatting. Here are the important things:\n",
    "Headers:\n",
    "# Large Header\n",
    "## Medium Header\n",
    "### Small Header\n",
    "Text Formatting:\n",
    "\n",
    "Bold text - **text**\n",
    "Italic text - *text*\n",
    "Inline code - `code`\n",
    "\n",
    "Lists:\n",
    "- Item 1\n",
    "- Item 2\n",
    "- Item 3\n",
    "---"
   ]
  },
  {
   "cell_type": "markdown",
   "id": "a12ca58b",
   "metadata": {},
   "source": [
    "### Part 3: Your First Python Code!\n",
    "Let's write our first code. The print() function prints text to the screen.  \n",
    "Code cell - Copy to a Code cell:  "
   ]
  },
  {
   "cell_type": "code",
   "execution_count": null,
   "id": "abbe161a",
   "metadata": {},
   "outputs": [],
   "source": [
    "# This is a code cell! Every line starting with # is a comment\n",
    "# Comments are not executed - they're just for explanation\n",
    "\n",
    "print(\"Hello World!\")\n",
    "print(\"This is my first code!\")"
   ]
  },
  {
   "cell_type": "markdown",
   "id": "b8df97dc",
   "metadata": {},
   "source": [
    "---"
   ]
  },
  {
   "cell_type": "markdown",
   "id": "924ece07",
   "metadata": {},
   "source": [
    "### Practice Tasks\n",
    "Now it's your turn! Let's practice what we learned.\n",
    "\n",
    "---"
   ]
  },
  {
   "cell_type": "markdown",
   "id": "8ed2bcaf",
   "metadata": {},
   "source": [
    "### Task 1: Self Introduction in Markdown\n",
    "Instructions:\n",
    "\n",
    "Create a new Markdown cell\n",
    "Write a self introduction with:\n",
    "\n",
    "A header with your name (use #)\n",
    "Your age\n",
    "3 hobbies or things you like (in a list)\n",
    "\n",
    "---#ofek sharabi\n",
    "13\n",
    "play football,listen to music,play in the computer"
   ]
  },
  {
   "cell_type": "markdown",
   "id": "8c40ba3d",
   "metadata": {},
   "source": [
    "### Task 2: Printing Messages\n",
    "Write code that prints:\n",
    "\n",
    "\"Hello World!\"\n",
    "Your name\n",
    "Your age in a sentence: \"I am X years old\"\n",
    "\n",
    "Hint: Use print() three times\n",
    "Code cell:print(hello world)\n",
    "print(my name is ofek)\n",
    "print(i am 13 years old)"
   ]
  },
  {
   "cell_type": "code",
   "execution_count": null,
   "id": "7de81b94",
   "metadata": {},
   "outputs": [],
   "source": [
    "# Write your code here\n",
    "print(i love to play football)"
   ]
  },
  {
   "cell_type": "markdown",
   "id": "b4fbb380",
   "metadata": {},
   "source": [
    "---"
   ]
  },
  {
   "cell_type": "markdown",
   "id": "c6e56d85",
   "metadata": {},
   "source": [
    "### Task 3: Variables and Simple Calculations\n",
    "Variable - A name we give to a value.\n",
    "Example:"
   ]
  },
  {
   "cell_type": "code",
   "execution_count": null,
   "id": "df1f46b5",
   "metadata": {},
   "outputs": [],
   "source": [
    "age = 15\n",
    "name = \"David\""
   ]
  },
  {
   "cell_type": "markdown",
   "id": "484ff691",
   "metadata": {},
   "source": [
    "Now it's your turn! Calculate the following and save it in a variable:  \n",
    "Calculate: 3 × 7 + 10  \n",
    "\n",
    "- Save the result in a variable named result  \n",
    "- Print the result  \n",
    "\n",
    "Code cell:"
   ]
  },
  {
   "cell_type": "code",
   "execution_count": null,
   "id": "c068fed3",
   "metadata": {},
   "outputs": [],
   "source": [
    "# Write your code here\n",
    "result =  # Complete the calculation here\n",
    "\n",
    "# Print the result 3*7+10\n",
    "\n"
   ]
  },
  {
   "cell_type": "markdown",
   "id": "7d5493d1",
   "metadata": {},
   "source": [
    "---"
   ]
  },
  {
   "cell_type": "markdown",
   "id": "6fda9355",
   "metadata": {},
   "source": [
    "### Task 4: More Calculations\n",
    "Create variables for your age and a friend's age, then:\n",
    "\n",
    "- Calculate the sum of the ages\n",
    "- Calculate the difference between the ages\n",
    "- Print both results with explanation\n",
    "\n",
    "Code cell:"
   ]
  },
  {
   "cell_type": "code",
   "execution_count": null,
   "id": "17694e52",
   "metadata": {},
   "outputs": [],
   "source": [
    "# Define variables\n",
    "my_age = 13\n",
    "friend_age = 15\n",
    "\n",
    "# Calculate sum\n",
    "total = 28\n",
    "\n",
    "# Calculate difference\n",
    "difference = 2\n",
    "\n",
    "# Print\n",
    "print(\"The sum is:\", 28)\n",
    "print(\"The difference is:\", 2)"
   ]
  },
  {
   "cell_type": "markdown",
   "id": "2b94420c",
   "metadata": {},
   "source": [
    "---"
   ]
  },
  {
   "cell_type": "markdown",
   "id": "413bf3a2",
   "metadata": {},
   "source": [
    "### Task 5: Combining Text and Numbers\n",
    "You can combine text and variables in printing. There are two ways:\n",
    "Method 1: Separate with commas"
   ]
  },
  {
   "cell_type": "code",
   "execution_count": null,
   "id": "9bf9d4da",
   "metadata": {},
   "outputs": [],
   "source": [
    "name = \"ofek\"\n",
    "age = 13\n",
    "print(\"My name is\", \"ofek\", \"and I am\", 13, \"years old\")"
   ]
  },
  {
   "cell_type": "markdown",
   "id": "3c783ae8",
   "metadata": {},
   "source": [
    "Method 2: f-string (recommended!)\n"
   ]
  },
  {
   "cell_type": "code",
   "execution_count": null,
   "id": "de3e2aeb",
   "metadata": {},
   "outputs": [],
   "source": [
    "name = \"ofek\"\n",
    "age = 13\n",
    "print(f\"My name is {ofek} and I am {13} years old\")"
   ]
  },
  {
   "cell_type": "markdown",
   "id": "1c7d70bd",
   "metadata": {},
   "source": [
    "Your task:\n",
    "Create variables with your name and age, and print a complete sentence using both methods."
   ]
  },
  {
   "cell_type": "code",
   "execution_count": null,
   "id": "79567294",
   "metadata": {},
   "outputs": [],
   "source": [
    "# Define variables\n",
    "name = ofek\n",
    "age = 13\n",
    "\n",
    "# Method 1: with commas\n",
    "name = \"ofek\"\n",
    "# Method 2: with f-string\n",
    "name = {ofek}"
   ]
  },
  {
   "cell_type": "markdown",
   "id": "2968ee53",
   "metadata": {},
   "source": [
    "---"
   ]
  },
  {
   "cell_type": "markdown",
   "id": "2143a827",
   "metadata": {},
   "source": [
    "### Task 6: Advanced Calculations\n",
    "Python has more mathematical operations:  \n",
    "\n",
    "** - power (example: 2**3 = 8)  \n",
    "// - integer division (example: 17//5 = 3)  \n",
    "% - modulo/remainder (example: 17%5 = 2)  \n",
    "\n",
    "Try:  \n",
    "\n",
    "- Calculate 2 to the power of 10  \n",
    "- Calculate how many times 7 goes into 50 (integer division)  \n",
    "- Calculate the remainder of 50 divided by 7  \n",
    "\n",
    "Code cell:  "
   ]
  },
  {
   "cell_type": "code",
   "execution_count": null,
   "id": "6512876c",
   "metadata": {},
   "outputs": [],
   "source": [
    "# Power\n",
    "power = \n",
    "print(\"2 to the power of 10 =\", power)\n",
    "\n",
    "# Integer division\n",
    "division = \n",
    "print(\"50 divided by 7 (integer) =\", division)\n",
    "\n",
    "# Remainder\n",
    "remainder = \n",
    "print(\"The remainder is:\", remainder)"
   ]
  },
  {
   "cell_type": "markdown",
   "id": "1e38fa2e",
   "metadata": {},
   "source": [
    "---"
   ]
  },
  {
   "cell_type": "markdown",
   "id": "07869d46",
   "metadata": {},
   "source": [
    "### Challenge for Advanced Students!\n",
    "The input() function allows the user to type something.\n",
    "Example:"
   ]
  },
  {
   "cell_type": "code",
   "execution_count": null,
   "id": "a7ddde99",
   "metadata": {},
   "outputs": [],
   "source": [
    "name = input(\"ofek \")\n",
    "print(f\"Hello {ofek}!\")"
   ]
  },
  {
   "cell_type": "markdown",
   "id": "66e4a5d1",
   "metadata": {},
   "source": [
    "Your challenge:\n",
    "\n",
    "- Ask the user for their name\n",
    "- Ask the user how old they are\n",
    "- Calculate in how many years they will be 100\n",
    "- Print a nice message with all the information\n",
    "\n",
    "Hint: When using input() the result is always text. To convert it to a number you need to write:"
   ]
  },
  {
   "cell_type": "code",
   "execution_count": null,
   "id": "e90829e9",
   "metadata": {},
   "outputs": [],
   "source": [
    "age = int(input(\"13\"))"
   ]
  },
  {
   "cell_type": "markdown",
   "id": "17c7d9f3",
   "metadata": {},
   "source": [
    "Code cell:\n"
   ]
  },
  {
   "cell_type": "code",
   "execution_count": null,
   "id": "ad6988b0",
   "metadata": {},
   "outputs": [],
   "source": [
    "# Your challenge - code that receives input from the user\n",
    "\n",
    "# Get name ofek\n",
    "\n",
    "\n",
    "# Get age 13\n",
    "\n",
    "\n",
    "# Calculate when they'll reach 100\n",
    "\n",
    "\n",
    "# Print message"
   ]
  },
  {
   "cell_type": "markdown",
   "id": "f4a59834",
   "metadata": {},
   "source": [
    "---"
   ]
  },
  {
   "cell_type": "markdown",
   "id": "4a63eb13",
   "metadata": {},
   "source": [
    "### Lesson Summary\n",
    "What we learned today:\n",
    "\n",
    "- How to work with Jupyter Notebook\n",
    "- How to write Markdown for text formatting\n",
    "- How to run Python code with print()\n",
    "- What variables are and how to use them\n",
    "- Basic mathematical operations\n",
    "- How to combine text and variables in printing\n",
    "- (Challenge) Getting user input with input()\n",
    "\n",
    "Don't forget!\n",
    "\n",
    "- Save this file (File → Save)\n",
    "- Upload it to your GitHub\n",
    "- Make sure everything works!\n",
    "\n",
    "Next lesson: We'll learn about advanced data types and start working with strings in depth! "
   ]
  },
  {
   "cell_type": "markdown",
   "id": "4792db09",
   "metadata": {},
   "source": [
    "---"
   ]
  },
  {
   "cell_type": "markdown",
   "id": "2d29b8b1",
   "metadata": {},
   "source": [
    "### Homework \n",
    "Want to advance? Try these challenges:\n",
    "\n",
    "1. Tip Calculator: Write a program that calculates how much tip to give at a restaurant (10%, 15%, or 20% of the bill)\n",
    "2. Temperature Converter: Write a program that receives temperature in Celsius and converts it to Fahrenheit\n",
    "\n",
    "Formula: F = C × 9/5 + 32\n",
    "\n",
    "\n",
    "3. How Many Seconds in Your Life: Write a program that receives an age and calculates how many seconds (approximately) the person has lived.\n",
    "\n",
    "Year = 365 days\n",
    "Day = 24 hours\n",
    "Hour = 60 minutes\n",
    "Minute = 60 seconds\n",
    "\n",
    "\n",
    "\n",
    "Code cell for homework:"
   ]
  },
  {
   "cell_type": "code",
   "execution_count": null,
   "id": "23ac098a",
   "metadata": {},
   "outputs": [],
   "source": [
    "# Space for your homework"
   ]
  }
 ],
 "metadata": {
  "kernelspec": {
   "display_name": "new_enviorment",
   "language": "python",
   "name": "python3"
  },
  "language_info": {
   "codemirror_mode": {
    "name": "ipython",
    "version": 3
   },
   "file_extension": ".py",
   "mimetype": "text/x-python",
   "name": "python",
   "nbconvert_exporter": "python",
   "pygments_lexer": "ipython3",
   "version": "3.11.8"
  }
 },
 "nbformat": 4,
 "nbformat_minor": 5
}
